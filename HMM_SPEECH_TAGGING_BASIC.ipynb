{
  "nbformat": 4,
  "nbformat_minor": 0,
  "metadata": {
    "colab": {
      "name": "HMM SPEECH TAGGING BASIC.ipynb",
      "version": "0.3.2",
      "provenance": [],
      "collapsed_sections": [],
      "include_colab_link": true
    },
    "kernelspec": {
      "name": "python3",
      "display_name": "Python 3"
    }
  },
  "cells": [
    {
      "cell_type": "markdown",
      "metadata": {
        "id": "view-in-github",
        "colab_type": "text"
      },
      "source": [
        "<a href=\"https://colab.research.google.com/github/mpiplani/NLP-Basics/blob/master/HMM_SPEECH_TAGGING_BASIC.ipynb\" target=\"_parent\"><img src=\"https://colab.research.google.com/assets/colab-badge.svg\" alt=\"Open In Colab\"/></a>"
      ]
    },
    {
      "cell_type": "code",
      "metadata": {
        "id": "wzMPxbI41JBq",
        "colab_type": "code",
        "colab": {}
      },
      "source": [
        "import nltk\n",
        "import IPython\n",
        "import re"
      ],
      "execution_count": 0,
      "outputs": []
    },
    {
      "cell_type": "code",
      "metadata": {
        "id": "UW0Wcgp218kT",
        "colab_type": "code",
        "colab": {}
      },
      "source": [
        "text = \"As I was waiting, a man came out of a side room, and at a glance I was sure he must be Long John.\""
      ],
      "execution_count": 0,
      "outputs": []
    },
    {
      "cell_type": "code",
      "metadata": {
        "id": "wIXolMTp2Ciu",
        "colab_type": "code",
        "colab": {
          "base_uri": "https://localhost:8080/",
          "height": 74
        },
        "outputId": "f1fe143a-17fa-405e-fd3c-06c6af2929e5"
      },
      "source": [
        "text = text.lower()\n",
        "\n",
        "text = re.sub(r\"[^a-zA-Z0-9]\", \" \", text)\n",
        "\n",
        "text = text.split()\n",
        "print(\"Preprocessed text: \\n\", text)\n"
      ],
      "execution_count": 3,
      "outputs": [
        {
          "output_type": "stream",
          "text": [
            "Preprocessed text: \n",
            " ['as', 'i', 'was', 'waiting', 'a', 'man', 'came', 'out', 'of', 'a', 'side', 'room', 'and', 'at', 'a', 'glance', 'i', 'was', 'sure', 'he', 'must', 'be', 'long', 'john']\n"
          ],
          "name": "stdout"
        }
      ]
    },
    {
      "cell_type": "code",
      "metadata": {
        "id": "xFJQ6nqj2JPc",
        "colab_type": "code",
        "colab": {
          "base_uri": "https://localhost:8080/",
          "height": 508
        },
        "outputId": "01437534-b9e1-4b4e-af1d-af1e0748d2c9"
      },
      "source": [
        "nltk.download('averaged_perceptron_tagger')\n",
        "nltk.pos_tag(text)"
      ],
      "execution_count": 5,
      "outputs": [
        {
          "output_type": "stream",
          "text": [
            "[nltk_data] Downloading package averaged_perceptron_tagger to\n",
            "[nltk_data]     /root/nltk_data...\n",
            "[nltk_data]   Unzipping taggers/averaged_perceptron_tagger.zip.\n"
          ],
          "name": "stdout"
        },
        {
          "output_type": "execute_result",
          "data": {
            "text/plain": [
              "[('as', 'IN'),\n",
              " ('i', 'NN'),\n",
              " ('was', 'VBD'),\n",
              " ('waiting', 'VBG'),\n",
              " ('a', 'DT'),\n",
              " ('man', 'NN'),\n",
              " ('came', 'VBD'),\n",
              " ('out', 'IN'),\n",
              " ('of', 'IN'),\n",
              " ('a', 'DT'),\n",
              " ('side', 'NN'),\n",
              " ('room', 'NN'),\n",
              " ('and', 'CC'),\n",
              " ('at', 'IN'),\n",
              " ('a', 'DT'),\n",
              " ('glance', 'NN'),\n",
              " ('i', 'NN'),\n",
              " ('was', 'VBD'),\n",
              " ('sure', 'JJ'),\n",
              " ('he', 'PRP'),\n",
              " ('must', 'MD'),\n",
              " ('be', 'VB'),\n",
              " ('long', 'JJ'),\n",
              " ('john', 'NN')]"
            ]
          },
          "metadata": {
            "tags": []
          },
          "execution_count": 5
        }
      ]
    },
    {
      "cell_type": "markdown",
      "metadata": {
        "id": "OPwzNNrI3RiP",
        "colab_type": "text"
      },
      "source": [
        "LOOKUP TABLE"
      ]
    },
    {
      "cell_type": "code",
      "metadata": {
        "id": "hBhqWH5S1oZq",
        "colab_type": "code",
        "colab": {}
      },
      "source": [
        "import re\n",
        "import numpy as np\n",
        "import pandas as pd\n",
        "from collections import Counter\n",
        "from nltk.tokenize import word_tokenize"
      ],
      "execution_count": 0,
      "outputs": []
    },
    {
      "cell_type": "code",
      "metadata": {
        "id": "txEg13hn2eUS",
        "colab_type": "code",
        "colab": {
          "base_uri": "https://localhost:8080/",
          "height": 54
        },
        "outputId": "aedf2194-3987-49c7-8cde-1ed6a29e6ed0"
      },
      "source": [
        "text = [\"Mary saw Jane.\",\n",
        "        \"Jane saw Will.\"]\n",
        "print(text)\n",
        "\n",
        "labels = [\"noun verb noun\",\n",
        "          \"noun verb noun\"]\n",
        "print(labels)"
      ],
      "execution_count": 7,
      "outputs": [
        {
          "output_type": "stream",
          "text": [
            "['Mary saw Jane.', 'Jane saw Will.']\n",
            "['noun verb noun', 'noun verb noun']\n"
          ],
          "name": "stdout"
        }
      ]
    },
    {
      "cell_type": "code",
      "metadata": {
        "id": "7F8yN7fG2isw",
        "colab_type": "code",
        "colab": {
          "base_uri": "https://localhost:8080/",
          "height": 145
        },
        "outputId": "c8863e9c-1ea9-4ba4-aada-86f7e9641027"
      },
      "source": [
        "nltk.download('punkt')\n",
        "def preprocess(text_list, labels):\n",
        "    # Converting the list of sentences into one string\n",
        "    text = \" \".join(text_list)\n",
        "    # Convert to lowercase\n",
        "    text = text.lower()\n",
        "    # Removing punctuation\n",
        "    text = re.sub(r\"[^a-zA-Z0-9]\", \" \", text)\n",
        "    # Tokenize the words\n",
        "    tokens = word_tokenize(text)\n",
        "\n",
        "    # Converting the list of labels into one string\n",
        "    labels = \" \".join(labels)\n",
        "    labels = word_tokenize(labels)\n",
        "    \n",
        "    return tokens, labels\n",
        "\n",
        "tokens, labels = preprocess(text, labels)\n",
        "print(\"Tokens: \\n\", tokens, \"\\n\")\n",
        "print(\"Labels: \\n\", labels)"
      ],
      "execution_count": 9,
      "outputs": [
        {
          "output_type": "stream",
          "text": [
            "[nltk_data] Downloading package punkt to /root/nltk_data...\n",
            "[nltk_data]   Unzipping tokenizers/punkt.zip.\n",
            "Tokens: \n",
            " ['mary', 'saw', 'jane', 'jane', 'saw', 'will'] \n",
            "\n",
            "Labels: \n",
            " ['noun', 'verb', 'noun', 'noun', 'verb', 'noun']\n"
          ],
          "name": "stdout"
        }
      ]
    },
    {
      "cell_type": "code",
      "metadata": {
        "id": "9_q49F5d23UI",
        "colab_type": "code",
        "colab": {
          "base_uri": "https://localhost:8080/",
          "height": 90
        },
        "outputId": "339fe063-1cfb-4c64-df98-abd168a210db"
      },
      "source": [
        "def count(tokens, labels):\n",
        "    # Initialize Counter\n",
        "    cnt = Counter()\n",
        "    # Iterating through tokens and labels\n",
        "    for i_word, i_label in zip(tokens, labels):\n",
        "        # If word and label are inside counter\n",
        "        if (i_word, i_label) not in cnt:\n",
        "            cnt[(i_word, i_label)] = 1\n",
        "        # If word and label are not inside counter\n",
        "        else:\n",
        "            cnt[(i_word, i_label)] += 1\n",
        "    return cnt\n",
        "\n",
        "cnt = count(tokens, labels)\n",
        "cnt\n"
      ],
      "execution_count": 10,
      "outputs": [
        {
          "output_type": "execute_result",
          "data": {
            "text/plain": [
              "Counter({('jane', 'noun'): 2,\n",
              "         ('mary', 'noun'): 1,\n",
              "         ('saw', 'verb'): 2,\n",
              "         ('will', 'noun'): 1})"
            ]
          },
          "metadata": {
            "tags": []
          },
          "execution_count": 10
        }
      ]
    },
    {
      "cell_type": "code",
      "metadata": {
        "id": "UiJ_A0Z73BBz",
        "colab_type": "code",
        "colab": {
          "base_uri": "https://localhost:8080/",
          "height": 168
        },
        "outputId": "57bcff96-90be-4919-947c-c2ef3b661ba3"
      },
      "source": [
        "df = pd.DataFrame(np.zeros((len(np.unique(tokens)), len(np.unique(labels)))))\n",
        "# Changing the column names\n",
        "df.columns = list(np.unique(labels))\n",
        "# Changing the index names\n",
        "df.index = list(np.unique(tokens))\n",
        "\n",
        "df"
      ],
      "execution_count": 11,
      "outputs": [
        {
          "output_type": "execute_result",
          "data": {
            "text/html": [
              "<div>\n",
              "<style scoped>\n",
              "    .dataframe tbody tr th:only-of-type {\n",
              "        vertical-align: middle;\n",
              "    }\n",
              "\n",
              "    .dataframe tbody tr th {\n",
              "        vertical-align: top;\n",
              "    }\n",
              "\n",
              "    .dataframe thead th {\n",
              "        text-align: right;\n",
              "    }\n",
              "</style>\n",
              "<table border=\"1\" class=\"dataframe\">\n",
              "  <thead>\n",
              "    <tr style=\"text-align: right;\">\n",
              "      <th></th>\n",
              "      <th>noun</th>\n",
              "      <th>verb</th>\n",
              "    </tr>\n",
              "  </thead>\n",
              "  <tbody>\n",
              "    <tr>\n",
              "      <th>jane</th>\n",
              "      <td>0.0</td>\n",
              "      <td>0.0</td>\n",
              "    </tr>\n",
              "    <tr>\n",
              "      <th>mary</th>\n",
              "      <td>0.0</td>\n",
              "      <td>0.0</td>\n",
              "    </tr>\n",
              "    <tr>\n",
              "      <th>saw</th>\n",
              "      <td>0.0</td>\n",
              "      <td>0.0</td>\n",
              "    </tr>\n",
              "    <tr>\n",
              "      <th>will</th>\n",
              "      <td>0.0</td>\n",
              "      <td>0.0</td>\n",
              "    </tr>\n",
              "  </tbody>\n",
              "</table>\n",
              "</div>"
            ],
            "text/plain": [
              "      noun  verb\n",
              "jane   0.0   0.0\n",
              "mary   0.0   0.0\n",
              "saw    0.0   0.0\n",
              "will   0.0   0.0"
            ]
          },
          "metadata": {
            "tags": []
          },
          "execution_count": 11
        }
      ]
    },
    {
      "cell_type": "code",
      "metadata": {
        "id": "AGyKUiZO3I-P",
        "colab_type": "code",
        "colab": {
          "base_uri": "https://localhost:8080/",
          "height": 168
        },
        "outputId": "db2f3f67-cc7f-4b7d-edb1-736e3c740a75"
      },
      "source": [
        "for i in list(cnt.items()):\n",
        "    # Get the corresponding word\n",
        "    word = i[0][0]\n",
        "    # Get the corresponding lable\n",
        "    label = i[0][1]\n",
        "    # Update\n",
        "    df[label][word] = i[1]\n",
        "    \n",
        "df"
      ],
      "execution_count": 12,
      "outputs": [
        {
          "output_type": "execute_result",
          "data": {
            "text/html": [
              "<div>\n",
              "<style scoped>\n",
              "    .dataframe tbody tr th:only-of-type {\n",
              "        vertical-align: middle;\n",
              "    }\n",
              "\n",
              "    .dataframe tbody tr th {\n",
              "        vertical-align: top;\n",
              "    }\n",
              "\n",
              "    .dataframe thead th {\n",
              "        text-align: right;\n",
              "    }\n",
              "</style>\n",
              "<table border=\"1\" class=\"dataframe\">\n",
              "  <thead>\n",
              "    <tr style=\"text-align: right;\">\n",
              "      <th></th>\n",
              "      <th>noun</th>\n",
              "      <th>verb</th>\n",
              "    </tr>\n",
              "  </thead>\n",
              "  <tbody>\n",
              "    <tr>\n",
              "      <th>jane</th>\n",
              "      <td>2.0</td>\n",
              "      <td>0.0</td>\n",
              "    </tr>\n",
              "    <tr>\n",
              "      <th>mary</th>\n",
              "      <td>1.0</td>\n",
              "      <td>0.0</td>\n",
              "    </tr>\n",
              "    <tr>\n",
              "      <th>saw</th>\n",
              "      <td>0.0</td>\n",
              "      <td>2.0</td>\n",
              "    </tr>\n",
              "    <tr>\n",
              "      <th>will</th>\n",
              "      <td>1.0</td>\n",
              "      <td>0.0</td>\n",
              "    </tr>\n",
              "  </tbody>\n",
              "</table>\n",
              "</div>"
            ],
            "text/plain": [
              "      noun  verb\n",
              "jane   2.0   0.0\n",
              "mary   1.0   0.0\n",
              "saw    0.0   2.0\n",
              "will   1.0   0.0"
            ]
          },
          "metadata": {
            "tags": []
          },
          "execution_count": 12
        }
      ]
    },
    {
      "cell_type": "markdown",
      "metadata": {
        "id": "8ydzWTwO3VQZ",
        "colab_type": "text"
      },
      "source": [
        "BIGRAMS\n"
      ]
    },
    {
      "cell_type": "code",
      "metadata": {
        "id": "vM8Nq6Ke3XMQ",
        "colab_type": "code",
        "colab": {}
      },
      "source": [
        "import re\n",
        "from collections import Counter\n",
        "import numpy as np\n",
        "import pandas as pd\n",
        "import nltk\n",
        "from nltk.tokenize import word_tokenize\n"
      ],
      "execution_count": 0,
      "outputs": []
    },
    {
      "cell_type": "code",
      "metadata": {
        "id": "rpFVhwN53cB6",
        "colab_type": "code",
        "colab": {
          "base_uri": "https://localhost:8080/",
          "height": 108
        },
        "outputId": "bbd04437-396d-4583-c0a2-344165ddc738"
      },
      "source": [
        "text = [\"Mary will see Jane.\",\n",
        "        \"Will will see Mary.\",\n",
        "        \"Jane will see Will.\"]\n",
        "print(\"Text: \\n\", text, \"\\n\")\n",
        "\n",
        "# Get the lable\n",
        "labels = [\"noun modal verb noun\",\n",
        "         \"noun modal verb noun\",\n",
        "         \"noun modal verb noun\"]\n",
        "print(\"Label: \\n\", labels)"
      ],
      "execution_count": 14,
      "outputs": [
        {
          "output_type": "stream",
          "text": [
            "Text: \n",
            " ['Mary will see Jane.', 'Will will see Mary.', 'Jane will see Will.'] \n",
            "\n",
            "Label: \n",
            " ['noun modal verb noun', 'noun modal verb noun', 'noun modal verb noun']\n"
          ],
          "name": "stdout"
        }
      ]
    },
    {
      "cell_type": "code",
      "metadata": {
        "id": "e1nOM8wo3fX3",
        "colab_type": "code",
        "colab": {
          "base_uri": "https://localhost:8080/",
          "height": 108
        },
        "outputId": "b8c40321-12ff-45f1-bd71-d8a12e144eb9"
      },
      "source": [
        "def preprocess(text_list, labels):\n",
        "    # Converting the list of sentences into one string\n",
        "    text = \" \".join(text_list)\n",
        "    # Convert to lowercase\n",
        "    text = text.lower()\n",
        "    # Removing punctuation\n",
        "    text = re.sub(r\"[^a-zA-Z0-9]\", \" \", text)\n",
        "    # Tokenize the words\n",
        "    tokens = word_tokenize(text)\n",
        "\n",
        "    # Converting the list of labels into one string\n",
        "    labels = \" \".join(labels)\n",
        "    labels = word_tokenize(labels)\n",
        "    \n",
        "    return tokens, labels\n",
        "\n",
        "tokens, labels = preprocess(text, labels)\n",
        "print(\"Tokens: \\n\", tokens, \"\\n\")\n",
        "print(\"Labels: \\n\", labels)"
      ],
      "execution_count": 15,
      "outputs": [
        {
          "output_type": "stream",
          "text": [
            "Tokens: \n",
            " ['mary', 'will', 'see', 'jane', 'will', 'will', 'see', 'mary', 'jane', 'will', 'see', 'will'] \n",
            "\n",
            "Labels: \n",
            " ['noun', 'modal', 'verb', 'noun', 'noun', 'modal', 'verb', 'noun', 'noun', 'modal', 'verb', 'noun']\n"
          ],
          "name": "stdout"
        }
      ]
    },
    {
      "cell_type": "code",
      "metadata": {
        "id": "bWbKEDU73kKO",
        "colab_type": "code",
        "colab": {
          "base_uri": "https://localhost:8080/",
          "height": 128
        },
        "outputId": "40f709f4-f7a1-4310-d181-4f3f9312c067"
      },
      "source": [
        "def bigram(tokens):\n",
        "    bigrams = list(nltk.bigrams(tokens))\n",
        "    return bigrams\n",
        "\n",
        "tokens_bigram = bigram(tokens)\n",
        "labels_bigram = bigram(labels)\n",
        "print(\"Tokens bigram: \\n\", tokens_bigram, \"\\n\")\n",
        "print(\"Labels bigram: \\n\", labels_bigram)"
      ],
      "execution_count": 16,
      "outputs": [
        {
          "output_type": "stream",
          "text": [
            "Tokens bigram: \n",
            " [('mary', 'will'), ('will', 'see'), ('see', 'jane'), ('jane', 'will'), ('will', 'will'), ('will', 'see'), ('see', 'mary'), ('mary', 'jane'), ('jane', 'will'), ('will', 'see'), ('see', 'will')] \n",
            "\n",
            "Labels bigram: \n",
            " [('noun', 'modal'), ('modal', 'verb'), ('verb', 'noun'), ('noun', 'noun'), ('noun', 'modal'), ('modal', 'verb'), ('verb', 'noun'), ('noun', 'noun'), ('noun', 'modal'), ('modal', 'verb'), ('verb', 'noun')]\n"
          ],
          "name": "stdout"
        }
      ]
    },
    {
      "cell_type": "code",
      "metadata": {
        "id": "qvpZw9DF3o6_",
        "colab_type": "code",
        "colab": {
          "base_uri": "https://localhost:8080/",
          "height": 181
        },
        "outputId": "44d07745-4c51-4019-8458-f20d552a6eda"
      },
      "source": [
        "def bigram_count(tokens, labels):\n",
        "    # Initialize Counter\n",
        "    cnt = Counter()\n",
        "    # Iterating through tokens and labels\n",
        "    for i_word, i_label in zip(tokens, labels):\n",
        "        # If word and label are inside counter\n",
        "        if (i_word, i_label) not in cnt:\n",
        "            cnt[(i_word, i_label)] = 1\n",
        "        # If word and label are not inside counter\n",
        "        else:\n",
        "            cnt[(i_word, i_label)] += 1\n",
        "    return cnt\n",
        "\n",
        "bigram_count = bigram_count(tokens_bigram, labels_bigram)\n",
        "bigram_count"
      ],
      "execution_count": 17,
      "outputs": [
        {
          "output_type": "execute_result",
          "data": {
            "text/plain": [
              "Counter({(('jane', 'will'), ('noun', 'modal')): 1,\n",
              "         (('jane', 'will'), ('noun', 'noun')): 1,\n",
              "         (('mary', 'jane'), ('noun', 'noun')): 1,\n",
              "         (('mary', 'will'), ('noun', 'modal')): 1,\n",
              "         (('see', 'jane'), ('verb', 'noun')): 1,\n",
              "         (('see', 'mary'), ('verb', 'noun')): 1,\n",
              "         (('see', 'will'), ('verb', 'noun')): 1,\n",
              "         (('will', 'see'), ('modal', 'verb')): 3,\n",
              "         (('will', 'will'), ('noun', 'modal')): 1})"
            ]
          },
          "metadata": {
            "tags": []
          },
          "execution_count": 17
        }
      ]
    },
    {
      "cell_type": "code",
      "metadata": {
        "id": "DZ9Twawc3z8W",
        "colab_type": "code",
        "colab": {
          "base_uri": "https://localhost:8080/",
          "height": 108
        },
        "outputId": "6359a55c-0864-4f14-9570-b7f5b6fb878c"
      },
      "source": [
        "# Converting words from ('mary', 'will') format to mary-will format\n",
        "words_names = [\"-\".join(i[0][0]) for i in list(bigram_count.items())]\n",
        "print(\"words names: \\n\", words_names, \"\\n\")\n",
        "\n",
        "# Converting labels from ('noun', 'modal') format to noun-modal format\n",
        "labels_names = [\"-\".join(i[0][1]) for i in list(bigram_count.items())]\n",
        "print(\"labels names: \\n\", labels_names)"
      ],
      "execution_count": 18,
      "outputs": [
        {
          "output_type": "stream",
          "text": [
            "words names: \n",
            " ['mary-will', 'will-see', 'see-jane', 'jane-will', 'will-will', 'see-mary', 'mary-jane', 'jane-will', 'see-will'] \n",
            "\n",
            "labels names: \n",
            " ['noun-modal', 'modal-verb', 'verb-noun', 'noun-noun', 'noun-modal', 'verb-noun', 'noun-noun', 'noun-modal', 'verb-noun']\n"
          ],
          "name": "stdout"
        }
      ]
    },
    {
      "cell_type": "code",
      "metadata": {
        "id": "DH7C1ll531CI",
        "colab_type": "code",
        "colab": {
          "base_uri": "https://localhost:8080/",
          "height": 288
        },
        "outputId": "0df615a7-cfef-4464-c55b-be3923028bd3"
      },
      "source": [
        "df = pd.DataFrame(np.zeros((len(np.unique(words_names)), len(np.unique(labels_names)))))\n",
        "# Changing the column names\n",
        "df.columns = np.unique(labels_names)\n",
        "# Changing the index names\n",
        "df.index = np.unique(words_names)\n",
        "\n",
        "df"
      ],
      "execution_count": 19,
      "outputs": [
        {
          "output_type": "execute_result",
          "data": {
            "text/html": [
              "<div>\n",
              "<style scoped>\n",
              "    .dataframe tbody tr th:only-of-type {\n",
              "        vertical-align: middle;\n",
              "    }\n",
              "\n",
              "    .dataframe tbody tr th {\n",
              "        vertical-align: top;\n",
              "    }\n",
              "\n",
              "    .dataframe thead th {\n",
              "        text-align: right;\n",
              "    }\n",
              "</style>\n",
              "<table border=\"1\" class=\"dataframe\">\n",
              "  <thead>\n",
              "    <tr style=\"text-align: right;\">\n",
              "      <th></th>\n",
              "      <th>modal-verb</th>\n",
              "      <th>noun-modal</th>\n",
              "      <th>noun-noun</th>\n",
              "      <th>verb-noun</th>\n",
              "    </tr>\n",
              "  </thead>\n",
              "  <tbody>\n",
              "    <tr>\n",
              "      <th>jane-will</th>\n",
              "      <td>0.0</td>\n",
              "      <td>0.0</td>\n",
              "      <td>0.0</td>\n",
              "      <td>0.0</td>\n",
              "    </tr>\n",
              "    <tr>\n",
              "      <th>mary-jane</th>\n",
              "      <td>0.0</td>\n",
              "      <td>0.0</td>\n",
              "      <td>0.0</td>\n",
              "      <td>0.0</td>\n",
              "    </tr>\n",
              "    <tr>\n",
              "      <th>mary-will</th>\n",
              "      <td>0.0</td>\n",
              "      <td>0.0</td>\n",
              "      <td>0.0</td>\n",
              "      <td>0.0</td>\n",
              "    </tr>\n",
              "    <tr>\n",
              "      <th>see-jane</th>\n",
              "      <td>0.0</td>\n",
              "      <td>0.0</td>\n",
              "      <td>0.0</td>\n",
              "      <td>0.0</td>\n",
              "    </tr>\n",
              "    <tr>\n",
              "      <th>see-mary</th>\n",
              "      <td>0.0</td>\n",
              "      <td>0.0</td>\n",
              "      <td>0.0</td>\n",
              "      <td>0.0</td>\n",
              "    </tr>\n",
              "    <tr>\n",
              "      <th>see-will</th>\n",
              "      <td>0.0</td>\n",
              "      <td>0.0</td>\n",
              "      <td>0.0</td>\n",
              "      <td>0.0</td>\n",
              "    </tr>\n",
              "    <tr>\n",
              "      <th>will-see</th>\n",
              "      <td>0.0</td>\n",
              "      <td>0.0</td>\n",
              "      <td>0.0</td>\n",
              "      <td>0.0</td>\n",
              "    </tr>\n",
              "    <tr>\n",
              "      <th>will-will</th>\n",
              "      <td>0.0</td>\n",
              "      <td>0.0</td>\n",
              "      <td>0.0</td>\n",
              "      <td>0.0</td>\n",
              "    </tr>\n",
              "  </tbody>\n",
              "</table>\n",
              "</div>"
            ],
            "text/plain": [
              "           modal-verb  noun-modal  noun-noun  verb-noun\n",
              "jane-will         0.0         0.0        0.0        0.0\n",
              "mary-jane         0.0         0.0        0.0        0.0\n",
              "mary-will         0.0         0.0        0.0        0.0\n",
              "see-jane          0.0         0.0        0.0        0.0\n",
              "see-mary          0.0         0.0        0.0        0.0\n",
              "see-will          0.0         0.0        0.0        0.0\n",
              "will-see          0.0         0.0        0.0        0.0\n",
              "will-will         0.0         0.0        0.0        0.0"
            ]
          },
          "metadata": {
            "tags": []
          },
          "execution_count": 19
        }
      ]
    },
    {
      "cell_type": "code",
      "metadata": {
        "id": "UDBSFAhA35Pu",
        "colab_type": "code",
        "colab": {
          "base_uri": "https://localhost:8080/",
          "height": 288
        },
        "outputId": "0f542a6b-3308-42d0-83a5-4fe87a998f85"
      },
      "source": [
        "for i in zip(bigram_count.items()):\n",
        "    # Get the corresponding word\n",
        "    word = \"-\".join(i[0][0][0])\n",
        "    # Get the corresponding lable\n",
        "    label = \"-\".join(i[0][0][1])\n",
        "    # Update\n",
        "    df[label][word] = i[0][1]\n",
        "    \n",
        "df"
      ],
      "execution_count": 20,
      "outputs": [
        {
          "output_type": "execute_result",
          "data": {
            "text/html": [
              "<div>\n",
              "<style scoped>\n",
              "    .dataframe tbody tr th:only-of-type {\n",
              "        vertical-align: middle;\n",
              "    }\n",
              "\n",
              "    .dataframe tbody tr th {\n",
              "        vertical-align: top;\n",
              "    }\n",
              "\n",
              "    .dataframe thead th {\n",
              "        text-align: right;\n",
              "    }\n",
              "</style>\n",
              "<table border=\"1\" class=\"dataframe\">\n",
              "  <thead>\n",
              "    <tr style=\"text-align: right;\">\n",
              "      <th></th>\n",
              "      <th>modal-verb</th>\n",
              "      <th>noun-modal</th>\n",
              "      <th>noun-noun</th>\n",
              "      <th>verb-noun</th>\n",
              "    </tr>\n",
              "  </thead>\n",
              "  <tbody>\n",
              "    <tr>\n",
              "      <th>jane-will</th>\n",
              "      <td>0.0</td>\n",
              "      <td>1.0</td>\n",
              "      <td>1.0</td>\n",
              "      <td>0.0</td>\n",
              "    </tr>\n",
              "    <tr>\n",
              "      <th>mary-jane</th>\n",
              "      <td>0.0</td>\n",
              "      <td>0.0</td>\n",
              "      <td>1.0</td>\n",
              "      <td>0.0</td>\n",
              "    </tr>\n",
              "    <tr>\n",
              "      <th>mary-will</th>\n",
              "      <td>0.0</td>\n",
              "      <td>1.0</td>\n",
              "      <td>0.0</td>\n",
              "      <td>0.0</td>\n",
              "    </tr>\n",
              "    <tr>\n",
              "      <th>see-jane</th>\n",
              "      <td>0.0</td>\n",
              "      <td>0.0</td>\n",
              "      <td>0.0</td>\n",
              "      <td>1.0</td>\n",
              "    </tr>\n",
              "    <tr>\n",
              "      <th>see-mary</th>\n",
              "      <td>0.0</td>\n",
              "      <td>0.0</td>\n",
              "      <td>0.0</td>\n",
              "      <td>1.0</td>\n",
              "    </tr>\n",
              "    <tr>\n",
              "      <th>see-will</th>\n",
              "      <td>0.0</td>\n",
              "      <td>0.0</td>\n",
              "      <td>0.0</td>\n",
              "      <td>1.0</td>\n",
              "    </tr>\n",
              "    <tr>\n",
              "      <th>will-see</th>\n",
              "      <td>3.0</td>\n",
              "      <td>0.0</td>\n",
              "      <td>0.0</td>\n",
              "      <td>0.0</td>\n",
              "    </tr>\n",
              "    <tr>\n",
              "      <th>will-will</th>\n",
              "      <td>0.0</td>\n",
              "      <td>1.0</td>\n",
              "      <td>0.0</td>\n",
              "      <td>0.0</td>\n",
              "    </tr>\n",
              "  </tbody>\n",
              "</table>\n",
              "</div>"
            ],
            "text/plain": [
              "           modal-verb  noun-modal  noun-noun  verb-noun\n",
              "jane-will         0.0         1.0        1.0        0.0\n",
              "mary-jane         0.0         0.0        1.0        0.0\n",
              "mary-will         0.0         1.0        0.0        0.0\n",
              "see-jane          0.0         0.0        0.0        1.0\n",
              "see-mary          0.0         0.0        0.0        1.0\n",
              "see-will          0.0         0.0        0.0        1.0\n",
              "will-see          3.0         0.0        0.0        0.0\n",
              "will-will         0.0         1.0        0.0        0.0"
            ]
          },
          "metadata": {
            "tags": []
          },
          "execution_count": 20
        }
      ]
    },
    {
      "cell_type": "markdown",
      "metadata": {
        "id": "zsj_vTTn4D5n",
        "colab_type": "text"
      },
      "source": [
        "HMM"
      ]
    },
    {
      "cell_type": "code",
      "metadata": {
        "id": "oPQYY1HK385r",
        "colab_type": "code",
        "colab": {
          "base_uri": "https://localhost:8080/",
          "height": 145
        },
        "outputId": "e2b12071-b3ce-4496-8ab3-9a93caa8fbea"
      },
      "source": [
        "!pip install pomegranate\n",
        "\n",
        "import numpy as np\n",
        "import re\n",
        "import matplotlib.pyplot as plt\n",
        "import pomegranate\n",
        "\n",
        "\n",
        "# Initiaize the Hidden Markov Model (HMM)\n",
        "model = pomegranate.HiddenMarkovModel()"
      ],
      "execution_count": 23,
      "outputs": [
        {
          "output_type": "stream",
          "text": [
            "Requirement already satisfied: pomegranate in /usr/local/lib/python3.6/dist-packages (0.11.0)\n",
            "Requirement already satisfied: scipy>=0.17.0 in /usr/local/lib/python3.6/dist-packages (from pomegranate) (1.3.0)\n",
            "Requirement already satisfied: numpy>=1.8.0 in /usr/local/lib/python3.6/dist-packages (from pomegranate) (1.16.4)\n",
            "Requirement already satisfied: networkx>=2.0 in /usr/local/lib/python3.6/dist-packages (from pomegranate) (2.3)\n",
            "Requirement already satisfied: pyyaml in /usr/local/lib/python3.6/dist-packages (from pomegranate) (3.13)\n",
            "Requirement already satisfied: joblib>=0.9.0b4 in /usr/local/lib/python3.6/dist-packages (from pomegranate) (0.13.2)\n",
            "Requirement already satisfied: decorator>=4.3.0 in /usr/local/lib/python3.6/dist-packages (from networkx>=2.0->pomegranate) (4.4.0)\n"
          ],
          "name": "stdout"
        }
      ]
    },
    {
      "cell_type": "code",
      "metadata": {
        "id": "MLwahqkh4Y_C",
        "colab_type": "code",
        "colab": {}
      },
      "source": [
        "emission_noun = pomegranate.DiscreteDistribution({\"mary\": 4/9, \n",
        "                                                  \"jane\": 2/9, \n",
        "                                                  \"will\": 1/9, \n",
        "                                                  \"spot\": 2/9, \n",
        "                                                  \"can\": 0, \n",
        "                                                  \"see\": 0, \n",
        "                                                  \"pat\": 0})\n",
        "state_noun = pomegranate.State(emission_noun, name = \"noun\")\n",
        "\n",
        "# \"Modal\" emission and state\n",
        "emission_modal = pomegranate.DiscreteDistribution({\"mary\": 0, \n",
        "                                                  \"jane\": 0, \n",
        "                                                  \"will\": 3/4, \n",
        "                                                  \"spot\": 0, \n",
        "                                                  \"can\": 1/4, \n",
        "                                                  \"see\": 0, \n",
        "                                                  \"pat\": 0})\n",
        "state_modal = pomegranate.State(emission_noun, name = \"modal\")\n",
        "\n",
        "# \"Verb\" emission and state\n",
        "emission_verb = pomegranate.DiscreteDistribution({\"mary\": 0, \n",
        "                                                  \"jane\": 0, \n",
        "                                                  \"will\": 0, \n",
        "                                                  \"spot\": 1/4, \n",
        "                                                  \"can\": 0, \n",
        "                                                  \"see\": 1/2, \n",
        "                                                  \"pat\": 1/4})\n",
        "state_verb = pomegranate.State(emission_noun, name = \"verb\")"
      ],
      "execution_count": 0,
      "outputs": []
    },
    {
      "cell_type": "code",
      "metadata": {
        "id": "qMeZeP1V44c2",
        "colab_type": "code",
        "colab": {}
      },
      "source": [
        "### Transition probabilities\n",
        "\n",
        "# Transition probabilities from \"<S>\" to \"noun\", \"modal\", \"verb\"\n",
        "model.add_transition(model.start, state_noun, 3/4)\n",
        "model.add_transition(model.start, state_modal, 1/4)\n",
        "model.add_transition(model.start, state_verb, 0)\n",
        "\n",
        "# Transition probabilities from \"noun\" to \"noun\", modal\", \"verb\"\n",
        "model.add_transition(state_noun, state_noun, 1/9)\n",
        "model.add_transition(state_noun, state_modal, 1/3)\n",
        "model.add_transition(state_noun, state_verb, 1/9)\n",
        "\n",
        "# Transition probabilities from \"modal\" to \"noun\", modal\", \"verb\"\n",
        "model.add_transition(state_modal, state_noun, 1/4)\n",
        "model.add_transition(state_modal, state_modal, 0)\n",
        "model.add_transition(state_modal, state_verb, 3/4)\n",
        "\n",
        "# Transition probabilities from \"verb\" to \"noun\", modal\", \"verb\"\n",
        "model.add_transition(state_verb, state_noun, 1)\n",
        "model.add_transition(state_verb, state_modal, 0)\n",
        "model.add_transition(state_verb, state_verb, 0)\n",
        "\n",
        "# Transition probabilities from \"noun\", modal\", \"verb\" to \"<E>\" \n",
        "model.add_transition(state_noun, model.end, 4/9)\n",
        "model.add_transition(state_modal, model.end, 0)\n",
        "model.add_transition(state_verb, model.end, 0)"
      ],
      "execution_count": 0,
      "outputs": []
    },
    {
      "cell_type": "code",
      "metadata": {
        "id": "50_EsP1J5NHU",
        "colab_type": "code",
        "colab": {}
      },
      "source": [
        "model.bake()"
      ],
      "execution_count": 0,
      "outputs": []
    },
    {
      "cell_type": "code",
      "metadata": {
        "id": "9kSw5n2J5Nyy",
        "colab_type": "code",
        "colab": {
          "base_uri": "https://localhost:8080/",
          "height": 54
        },
        "outputId": "e935c645-9c52-489e-8f37-4f73d28d84e4"
      },
      "source": [
        "print(\"Total number of edges: \", model.edge_count())\n",
        "print(\"Total number of states or nodes: \", model.node_count())"
      ],
      "execution_count": 28,
      "outputs": [
        {
          "output_type": "stream",
          "text": [
            "Total number of edges:  15\n",
            "Total number of states or nodes:  5\n"
          ],
          "name": "stdout"
        }
      ]
    },
    {
      "cell_type": "code",
      "metadata": {
        "id": "NuhodEMP5R31",
        "colab_type": "code",
        "colab": {}
      },
      "source": [
        "# Changing \"None-end\" to \"end\"\n",
        "model.states[-1].name = \"<E>\"\n",
        "\n",
        "# Changing \"None-end\" to \"end\"\n",
        "model.states[-2].name = \"<S>\""
      ],
      "execution_count": 0,
      "outputs": []
    },
    {
      "cell_type": "code",
      "metadata": {
        "id": "PwInw4yK5Vp5",
        "colab_type": "code",
        "colab": {
          "base_uri": "https://localhost:8080/",
          "height": 72
        },
        "outputId": "a5fd3e44-f052-4660-d481-d222c6463ba2"
      },
      "source": [
        "text = \"Jane will spot Will.\"\n",
        "print(text)\n",
        "### Preprocessing the text\n",
        "\n",
        "# Lower case\n",
        "text = text.lower()\n",
        "\n",
        "# remove punctuation\n",
        "text = re.sub(r\"[^a-zA-Z0-9]\", \" \", text)\n",
        "\n",
        "# Tokenizing\n",
        "text = text.split()\n",
        "print(\"Preprocessed text: \\n\", text)"
      ],
      "execution_count": 30,
      "outputs": [
        {
          "output_type": "stream",
          "text": [
            "Jane will spot Will.\n",
            "Preprocessed text: \n",
            " ['jane', 'will', 'spot', 'will']\n"
          ],
          "name": "stdout"
        }
      ]
    },
    {
      "cell_type": "code",
      "metadata": {
        "id": "x2WpO2B55cx5",
        "colab_type": "code",
        "colab": {
          "base_uri": "https://localhost:8080/",
          "height": 72
        },
        "outputId": "b58db55a-4ee7-47c2-a3e1-7c920d32a67e"
      },
      "source": [
        "### Prediction\n",
        "viterbi_likelihood, viterbi_path = model.viterbi(text)\n",
        "\n",
        "# Get the final viterbi path\n",
        "viterbi_path = [i_state[1].name for i_state in viterbi_path]\n",
        "\n",
        "print(\"The most likely sequence: \\n\", viterbi_path, \"\\n\")\n",
        "#print(\"With likelihood of (approximate):\\n {:.3f}%\".format(np.exp(viterbi_likelihood)*100))"
      ],
      "execution_count": 31,
      "outputs": [
        {
          "output_type": "stream",
          "text": [
            "The most likely sequence: \n",
            " ['<S>', 'noun', 'modal', 'verb', 'noun', '<E>'] \n",
            "\n"
          ],
          "name": "stdout"
        }
      ]
    },
    {
      "cell_type": "code",
      "metadata": {
        "id": "ji0itkdy5guS",
        "colab_type": "code",
        "colab": {}
      },
      "source": [
        ""
      ],
      "execution_count": 0,
      "outputs": []
    }
  ]
}