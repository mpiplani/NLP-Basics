{
  "nbformat": 4,
  "nbformat_minor": 0,
  "metadata": {
    "colab": {
      "name": "NLP_2.ipynb",
      "version": "0.3.2",
      "provenance": [],
      "include_colab_link": true
    },
    "kernelspec": {
      "name": "python3",
      "display_name": "Python 3"
    }
  },
  "cells": [
    {
      "cell_type": "markdown",
      "metadata": {
        "id": "view-in-github",
        "colab_type": "text"
      },
      "source": [
        "<a href=\"https://colab.research.google.com/github/mpiplani/NLP-Basics/blob/master/NLP_2.ipynb\" target=\"_parent\"><img src=\"https://colab.research.google.com/assets/colab-badge.svg\" alt=\"Open In Colab\"/></a>"
      ]
    },
    {
      "cell_type": "markdown",
      "metadata": {
        "id": "lg7wVyAwHMan",
        "colab_type": "text"
      },
      "source": [
        "Introduction To NLP"
      ]
    },
    {
      "cell_type": "markdown",
      "metadata": {
        "id": "Hxl_wxE8HNCz",
        "colab_type": "text"
      },
      "source": [
        "Text Preprocessing"
      ]
    },
    {
      "cell_type": "markdown",
      "metadata": {
        "id": "tH2gjABGHVfF",
        "colab_type": "text"
      },
      "source": [
        "In text processing we get the raw data and make it ready for feature extraction. The steps are as follows:\n",
        "\n",
        "1) Clean the dataset\n",
        "\n",
        "2) Normalize the text\n",
        "\n",
        "3) Remove stop words\n"
      ]
    },
    {
      "cell_type": "code",
      "metadata": {
        "id": "MglltJcJHmh9",
        "colab_type": "code",
        "colab": {
          "base_uri": "https://localhost:8080/",
          "height": 72
        },
        "outputId": "e3f6c92d-4ecd-4486-8f25-b2f05592541f"
      },
      "source": [
        "import re\n",
        "from nltk.tokenize import word_tokenize\n",
        "from nltk.corpus import stopwords\n",
        "from nltk.stem.porter import PorterStemmer\n",
        "from nltk.stem.wordnet import WordNetLemmatizer\n",
        "import nltk\n",
        "nltk.download('punkt')"
      ],
      "execution_count": 6,
      "outputs": [
        {
          "output_type": "stream",
          "text": [
            "[nltk_data] Downloading package punkt to /root/nltk_data...\n",
            "[nltk_data]   Unzipping tokenizers/punkt.zip.\n"
          ],
          "name": "stdout"
        },
        {
          "output_type": "execute_result",
          "data": {
            "text/plain": [
              "True"
            ]
          },
          "metadata": {
            "tags": []
          },
          "execution_count": 6
        }
      ]
    },
    {
      "cell_type": "code",
      "metadata": {
        "id": "e4UQ7e5FHrDb",
        "colab_type": "code",
        "colab": {}
      },
      "source": [
        "\n",
        "text = \"The first time you see The Second Renaissance it may look boring. Look at it at least twice and \\\n",
        "        definitely watch part 2. It will change your view of the matrix. Are the human people the ones  \\\n",
        "        who started the war ? Is AI a bad thing ?\""
      ],
      "execution_count": 0,
      "outputs": []
    },
    {
      "cell_type": "code",
      "metadata": {
        "id": "iN7vU2CKJArw",
        "colab_type": "code",
        "colab": {
          "base_uri": "https://localhost:8080/",
          "height": 55
        },
        "outputId": "469c4bfc-dc12-4abf-c5ac-aca90fe61863"
      },
      "source": [
        "\n",
        "# Lower casing the dataset\n",
        "text = text.lower()\n",
        "print(text)"
      ],
      "execution_count": 8,
      "outputs": [
        {
          "output_type": "stream",
          "text": [
            "the first time you see the second renaissance it may look boring. look at it at least twice and         definitely watch part 2. it will change your view of the matrix. are the human people the ones          who started the war ? is ai a bad thing ?\n"
          ],
          "name": "stdout"
        }
      ]
    },
    {
      "cell_type": "code",
      "metadata": {
        "id": "d_HhgeflJFnK",
        "colab_type": "code",
        "colab": {
          "base_uri": "https://localhost:8080/",
          "height": 55
        },
        "outputId": "f9e58c0e-4b05-4e08-f8be-d2f68bbd2ef8"
      },
      "source": [
        "text = re.sub(r\"[^a-zA-Z0-9]\", \" \", text)\n",
        "print(text)"
      ],
      "execution_count": 9,
      "outputs": [
        {
          "output_type": "stream",
          "text": [
            "the first time you see the second renaissance it may look boring  look at it at least twice and         definitely watch part 2  it will change your view of the matrix  are the human people the ones          who started the war   is ai a bad thing  \n"
          ],
          "name": "stdout"
        }
      ]
    },
    {
      "cell_type": "code",
      "metadata": {
        "id": "u-tu6zqfJL2L",
        "colab_type": "code",
        "colab": {
          "base_uri": "https://localhost:8080/",
          "height": 55
        },
        "outputId": "7225c237-8bcb-43a6-8200-717f0b9e245a"
      },
      "source": [
        "text = word_tokenize(text)\n",
        "print(text)"
      ],
      "execution_count": 10,
      "outputs": [
        {
          "output_type": "stream",
          "text": [
            "['the', 'first', 'time', 'you', 'see', 'the', 'second', 'renaissance', 'it', 'may', 'look', 'boring', 'look', 'at', 'it', 'at', 'least', 'twice', 'and', 'definitely', 'watch', 'part', '2', 'it', 'will', 'change', 'your', 'view', 'of', 'the', 'matrix', 'are', 'the', 'human', 'people', 'the', 'ones', 'who', 'started', 'the', 'war', 'is', 'ai', 'a', 'bad', 'thing']\n"
          ],
          "name": "stdout"
        }
      ]
    },
    {
      "cell_type": "code",
      "metadata": {
        "id": "EZgmK--wJcQ4",
        "colab_type": "code",
        "colab": {
          "base_uri": "https://localhost:8080/",
          "height": 92
        },
        "outputId": "839abb6e-286d-41a7-a564-692be56c1c7c"
      },
      "source": [
        "\n",
        "nltk.download('stopwords')\n",
        "text = [word for word in text if word not in stopwords.words(\"english\")]\n",
        "print(text)"
      ],
      "execution_count": 12,
      "outputs": [
        {
          "output_type": "stream",
          "text": [
            "[nltk_data] Downloading package stopwords to /root/nltk_data...\n",
            "[nltk_data]   Unzipping corpora/stopwords.zip.\n",
            "['first', 'time', 'see', 'second', 'renaissance', 'may', 'look', 'boring', 'look', 'least', 'twice', 'definitely', 'watch', 'part', '2', 'change', 'view', 'matrix', 'human', 'people', 'ones', 'started', 'war', 'ai', 'bad', 'thing']\n"
          ],
          "name": "stdout"
        }
      ]
    },
    {
      "cell_type": "code",
      "metadata": {
        "id": "IAO3FzozJns2",
        "colab_type": "code",
        "colab": {
          "base_uri": "https://localhost:8080/",
          "height": 55
        },
        "outputId": "78879a47-bb41-46fe-9a22-bfb5e6f4bf66"
      },
      "source": [
        "stemmed = [PorterStemmer().stem(word) for word in text]\n",
        "print(stemmed)"
      ],
      "execution_count": 13,
      "outputs": [
        {
          "output_type": "stream",
          "text": [
            "['first', 'time', 'see', 'second', 'renaiss', 'may', 'look', 'bore', 'look', 'least', 'twice', 'definit', 'watch', 'part', '2', 'chang', 'view', 'matrix', 'human', 'peopl', 'one', 'start', 'war', 'ai', 'bad', 'thing']\n"
          ],
          "name": "stdout"
        }
      ]
    },
    {
      "cell_type": "code",
      "metadata": {
        "id": "gNjKL0wdJy8z",
        "colab_type": "code",
        "colab": {
          "base_uri": "https://localhost:8080/",
          "height": 92
        },
        "outputId": "2ed04442-e762-4866-d524-2dbac0a96e18"
      },
      "source": [
        "nltk.download('wordnet')\n",
        "lemmatized = [WordNetLemmatizer().lemmatize(word, pos='n') for word in text]\n",
        "print(lemmatized)"
      ],
      "execution_count": 18,
      "outputs": [
        {
          "output_type": "stream",
          "text": [
            "[nltk_data] Downloading package wordnet to /root/nltk_data...\n",
            "[nltk_data]   Unzipping corpora/wordnet.zip.\n",
            "['first', 'time', 'see', 'second', 'renaissance', 'may', 'look', 'boring', 'look', 'least', 'twice', 'definitely', 'watch', 'part', '2', 'change', 'view', 'matrix', 'human', 'people', 'one', 'started', 'war', 'ai', 'bad', 'thing']\n"
          ],
          "name": "stdout"
        }
      ]
    }
  ]
}